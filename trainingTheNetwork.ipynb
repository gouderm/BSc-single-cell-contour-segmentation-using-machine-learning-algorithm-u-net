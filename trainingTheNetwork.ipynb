version https://git-lfs.github.com/spec/v1
oid sha256:ba90a9c62e303c384cd0317443521c6b8c9b5a8c269c29ad0e7ceee5da8b7fc4
size 408184
